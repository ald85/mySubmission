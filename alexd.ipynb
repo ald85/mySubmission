{
 "cells": [
  {
   "cell_type": "markdown",
   "id": "567671dc-3af0-42c3-a384-7418532f802c",
   "metadata": {},
   "source": [
    "# My Jupyter Notebook on IBM Watson Studio"
   ]
  },
  {
   "cell_type": "markdown",
   "id": "0a28a430-6ceb-4299-bb0a-0f20db830c5e",
   "metadata": {},
   "source": [
    "**Alex D** <br> Data Scientist"
   ]
  },
  {
   "cell_type": "markdown",
   "id": "6422bc94-673f-47e6-8da2-8d5441d07dbe",
   "metadata": {},
   "source": [
    "*I am interested in data science because it uses a wide range of skills to solve problems including programming, mathematical, analytical and communication skills.*"
   ]
  },
  {
   "cell_type": "markdown",
   "id": "aa76193c-8260-4d66-8d1a-99b395c21d15",
   "metadata": {},
   "source": [
    "### The below code in cell 5 multiplies two numbers"
   ]
  },
  {
   "cell_type": "code",
   "execution_count": 4,
   "id": "ab34878d-cd19-49a2-8ea2-2af70ed7283f",
   "metadata": {},
   "outputs": [
    {
     "data": {
      "text/plain": [
       "4"
      ]
     },
     "execution_count": 4,
     "metadata": {},
     "output_type": "execute_result"
    }
   ],
   "source": [
    "2*2"
   ]
  },
  {
   "cell_type": "markdown",
   "id": "06f7d1ed-d050-4091-b13c-ea42a14bc01a",
   "metadata": {},
   "source": [
    "<blockquote>Three good skills to acquire for data scientists are:</blockquote>\n",
    "\n",
    "<ol>\n",
    "<li>Python</li>\n",
    "<li>R</li>\n",
    "<li>SQL</li>\n",
    "</ol>\n",
    "\n",
    "<blockquote>To find out more on the above please ask Google. Link below:</blockquote>\n",
    "\n",
    "<a href=\"https://www.google.com\" >Google</a>"
   ]
  }
 ],
 "metadata": {
  "kernelspec": {
   "display_name": "Python",
   "language": "python",
   "name": "conda-env-python-py"
  },
  "language_info": {
   "codemirror_mode": {
    "name": "ipython",
    "version": 3
   },
   "file_extension": ".py",
   "mimetype": "text/x-python",
   "name": "python",
   "nbconvert_exporter": "python",
   "pygments_lexer": "ipython3",
   "version": "3.7.12"
  }
 },
 "nbformat": 4,
 "nbformat_minor": 5
}
